{
 "cells": [
  {
   "cell_type": "code",
   "execution_count": 2,
   "metadata": {},
   "outputs": [],
   "source": [
    "import csv\n",
    "import time"
   ]
  },
  {
   "cell_type": "code",
   "execution_count": null,
   "metadata": {
    "scrolled": true
   },
   "outputs": [],
   "source": [
    "data = dict({})\n",
    "\n",
    "for d in range(1, 15):\n",
    "    filename = '/data/UsersInTokyo_2012/201205{:02d}.csv'.format(d)\n",
    "    print(filename)\n",
    "    start_time = time.mktime(time.strptime('2012-05-{:02d} 00:00:00'.format(d), '%Y-%m-%d %H:%M:%S')) - 600\n",
    "    with open(filename, 'r') as f:\n",
    "        for row in csv.reader(f):\n",
    "            uid = int(row[0])\n",
    "            tstamp = time.mktime(time.strptime(row[1], '%Y-%m-%d %H:%M:%S')) - start_time\n",
    "            if tstamp < 0 or tstamp >= 24 * 3600:\n",
    "                continue\n",
    "            dis_time = tstamp // 900\n",
    "            lat = float(row[2])\n",
    "            lon = float(row[3])\n",
    "            if uid not in data:\n",
    "                data[uid] = []\n",
    "            data[uid].append([d - 1, dis_time, lat, lon])"
   ]
  },
  {
   "cell_type": "code",
   "execution_count": 12,
   "metadata": {},
   "outputs": [
    {
     "name": "stdout",
     "output_type": "stream",
     "text": [
      "../data/zdc/20100801.csv\n",
      "../data/zdc/20100802.csv\n",
      "../data/zdc/20100803.csv\n",
      "../data/zdc/20100804.csv\n",
      "../data/zdc/20100805.csv\n",
      "../data/zdc/20100806.csv\n",
      "../data/zdc/20100807.csv\n",
      "../data/zdc/20100808.csv\n",
      "../data/zdc/20100809.csv\n",
      "../data/zdc/20100810.csv\n",
      "../data/zdc/20100811.csv\n",
      "../data/zdc/20100812.csv\n",
      "../data/zdc/20100813.csv\n",
      "../data/zdc/20100814.csv\n"
     ]
    }
   ],
   "source": [
    "data = dict({})\n",
    "\n",
    "for d in range(1, 15):\n",
    "    filename = '../data/zdc/201008{:02d}.csv'.format(d)\n",
    "    print(filename)\n",
    "    start_time = time.mktime(time.strptime('2010-08-{:02d} 00:00:00'.format(d), '%Y-%m-%d %H:%M:%S')) - 600\n",
    "    with open(filename, 'r') as f:\n",
    "        for row in csv.reader(f):\n",
    "            uid = int(row[0][3:])\n",
    "            if uid % 100 != 0:\n",
    "                continue\n",
    "            tstamp = time.mktime(time.strptime(row[1], '%Y%m%d%H%M%S')) - start_time\n",
    "            if tstamp < 0 or tstamp >= 24 * 3600:\n",
    "                continue\n",
    "            dis_time = int(tstamp // 900)\n",
    "            lat = float(row[2]) / 3600000.\n",
    "            lon = float(row[3]) / 3600000.\n",
    "            if uid not in data:\n",
    "                data[uid] = []\n",
    "            data[uid].append([d - 1, dis_time, lat, lon])"
   ]
  },
  {
   "cell_type": "code",
   "execution_count": 13,
   "metadata": {},
   "outputs": [],
   "source": [
    "to_del = []\n",
    "\n",
    "for uid in data:\n",
    "    if len(data[uid]) < 100:\n",
    "        to_del.append(uid)"
   ]
  },
  {
   "cell_type": "code",
   "execution_count": 14,
   "metadata": {},
   "outputs": [
    {
     "data": {
      "text/plain": [
       "349"
      ]
     },
     "execution_count": 14,
     "metadata": {},
     "output_type": "execute_result"
    }
   ],
   "source": [
    "len(to_del)"
   ]
  },
  {
   "cell_type": "code",
   "execution_count": 15,
   "metadata": {},
   "outputs": [
    {
     "data": {
      "text/plain": [
       "5245"
      ]
     },
     "execution_count": 15,
     "metadata": {},
     "output_type": "execute_result"
    }
   ],
   "source": [
    "len(data)"
   ]
  },
  {
   "cell_type": "code",
   "execution_count": 16,
   "metadata": {},
   "outputs": [],
   "source": [
    "for uid in to_del:\n",
    "    data.pop(uid, None)"
   ]
  },
  {
   "cell_type": "code",
   "execution_count": 17,
   "metadata": {},
   "outputs": [
    {
     "data": {
      "text/plain": [
       "4896"
      ]
     },
     "execution_count": 17,
     "metadata": {},
     "output_type": "execute_result"
    }
   ],
   "source": [
    "len(data)"
   ]
  },
  {
   "cell_type": "code",
   "execution_count": 18,
   "metadata": {},
   "outputs": [],
   "source": [
    "import pickle as pk"
   ]
  },
  {
   "cell_type": "code",
   "execution_count": 19,
   "metadata": {},
   "outputs": [],
   "source": [
    "pk.dump(data, open('gps_log_data.pk', 'wb'))"
   ]
  },
  {
   "cell_type": "code",
   "execution_count": null,
   "metadata": {},
   "outputs": [],
   "source": []
  }
 ],
 "metadata": {
  "kernelspec": {
   "display_name": "Conda Py3",
   "language": "python",
   "name": "py3"
  },
  "language_info": {
   "codemirror_mode": {
    "name": "ipython",
    "version": 3
   },
   "file_extension": ".py",
   "mimetype": "text/x-python",
   "name": "python",
   "nbconvert_exporter": "python",
   "pygments_lexer": "ipython3",
   "version": "3.6.5"
  }
 },
 "nbformat": 4,
 "nbformat_minor": 2
}
